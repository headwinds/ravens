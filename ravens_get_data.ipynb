{
 "cells": [
  {
   "cell_type": "code",
   "execution_count": 1,
   "metadata": {},
   "outputs": [],
   "source": [
    "import pandas as pd\n",
    "friends_df = pd.read_csv(\"headwinds_twitter_friends.csv\")\n",
    "\n",
    "\n"
   ]
  },
  {
   "cell_type": "code",
   "execution_count": 3,
   "metadata": {},
   "outputs": [
    {
     "data": {
      "text/html": [
       "<div>\n",
       "<style scoped>\n",
       "    .dataframe tbody tr th:only-of-type {\n",
       "        vertical-align: middle;\n",
       "    }\n",
       "\n",
       "    .dataframe tbody tr th {\n",
       "        vertical-align: top;\n",
       "    }\n",
       "\n",
       "    .dataframe thead th {\n",
       "        text-align: right;\n",
       "    }\n",
       "</style>\n",
       "<table border=\"1\" class=\"dataframe\">\n",
       "  <thead>\n",
       "    <tr style=\"text-align: right;\">\n",
       "      <th></th>\n",
       "      <th>name</th>\n",
       "      <th>username</th>\n",
       "      <th>description</th>\n",
       "      <th>website</th>\n",
       "      <th>followers</th>\n",
       "      <th>favourites</th>\n",
       "    </tr>\n",
       "  </thead>\n",
       "  <tbody>\n",
       "    <tr>\n",
       "      <td>0</td>\n",
       "      <td>Yves Peirsman</td>\n",
       "      <td>yvespeirsman</td>\n",
       "      <td>Natural Language Processing at @nlptown</td>\n",
       "      <td>https://t.co/oc8Q3pcMZb</td>\n",
       "      <td>818</td>\n",
       "      <td>556</td>\n",
       "    </tr>\n",
       "    <tr>\n",
       "      <td>1</td>\n",
       "      <td>Maria Capelle Frantz</td>\n",
       "      <td>mariacfrantz</td>\n",
       "      <td>Cartoonist &amp; illustrator ★ Creator of The Chan...</td>\n",
       "      <td>https://t.co/CPwwxklPnO</td>\n",
       "      <td>4267</td>\n",
       "      <td>6206</td>\n",
       "    </tr>\n",
       "    <tr>\n",
       "      <td>2</td>\n",
       "      <td>Guillermo Del Tired</td>\n",
       "      <td>mazarbor</td>\n",
       "      <td>canzine 2019 🌱 susie wilson (she/her) // carto...</td>\n",
       "      <td>https://t.co/lhXJ2TWFpf</td>\n",
       "      <td>191</td>\n",
       "      <td>16332</td>\n",
       "    </tr>\n",
       "    <tr>\n",
       "      <td>3</td>\n",
       "      <td>shannon</td>\n",
       "      <td>shannonkao</td>\n",
       "      <td>programmer by day, very tired by night &amp; in be...</td>\n",
       "      <td>https://t.co/meY4VPLEtF</td>\n",
       "      <td>4769</td>\n",
       "      <td>4809</td>\n",
       "    </tr>\n",
       "    <tr>\n",
       "      <td>4</td>\n",
       "      <td>Starsoft - PAX West</td>\n",
       "      <td>WestonPDX</td>\n",
       "      <td>Video game maker. Working on Savior, a smooth ...</td>\n",
       "      <td>https://t.co/eXeceoDYoS</td>\n",
       "      <td>3969</td>\n",
       "      <td>3376</td>\n",
       "    </tr>\n",
       "  </tbody>\n",
       "</table>\n",
       "</div>"
      ],
      "text/plain": [
       "                   name      username  \\\n",
       "0         Yves Peirsman  yvespeirsman   \n",
       "1  Maria Capelle Frantz  mariacfrantz   \n",
       "2   Guillermo Del Tired      mazarbor   \n",
       "3               shannon    shannonkao   \n",
       "4   Starsoft - PAX West     WestonPDX   \n",
       "\n",
       "                                         description                  website  \\\n",
       "0            Natural Language Processing at @nlptown  https://t.co/oc8Q3pcMZb   \n",
       "1  Cartoonist & illustrator ★ Creator of The Chan...  https://t.co/CPwwxklPnO   \n",
       "2  canzine 2019 🌱 susie wilson (she/her) // carto...  https://t.co/lhXJ2TWFpf   \n",
       "3  programmer by day, very tired by night & in be...  https://t.co/meY4VPLEtF   \n",
       "4  Video game maker. Working on Savior, a smooth ...  https://t.co/eXeceoDYoS   \n",
       "\n",
       "   followers  favourites  \n",
       "0        818         556  \n",
       "1       4267        6206  \n",
       "2        191       16332  \n",
       "3       4769        4809  \n",
       "4       3969        3376  "
      ]
     },
     "execution_count": 3,
     "metadata": {},
     "output_type": "execute_result"
    }
   ],
   "source": [
    "friends_df.head()"
   ]
  },
  {
   "cell_type": "code",
   "execution_count": 4,
   "metadata": {},
   "outputs": [
    {
     "data": {
      "text/html": [
       "<div>\n",
       "<style scoped>\n",
       "    .dataframe tbody tr th:only-of-type {\n",
       "        vertical-align: middle;\n",
       "    }\n",
       "\n",
       "    .dataframe tbody tr th {\n",
       "        vertical-align: top;\n",
       "    }\n",
       "\n",
       "    .dataframe thead th {\n",
       "        text-align: right;\n",
       "    }\n",
       "</style>\n",
       "<table border=\"1\" class=\"dataframe\">\n",
       "  <thead>\n",
       "    <tr style=\"text-align: right;\">\n",
       "      <th></th>\n",
       "      <th>followers</th>\n",
       "      <th>favourites</th>\n",
       "    </tr>\n",
       "  </thead>\n",
       "  <tbody>\n",
       "    <tr>\n",
       "      <td>count</td>\n",
       "      <td>3.600000e+02</td>\n",
       "      <td>360.000000</td>\n",
       "    </tr>\n",
       "    <tr>\n",
       "      <td>mean</td>\n",
       "      <td>3.859998e+04</td>\n",
       "      <td>10072.719444</td>\n",
       "    </tr>\n",
       "    <tr>\n",
       "      <td>std</td>\n",
       "      <td>2.677872e+05</td>\n",
       "      <td>26485.266450</td>\n",
       "    </tr>\n",
       "    <tr>\n",
       "      <td>min</td>\n",
       "      <td>5.000000e+00</td>\n",
       "      <td>0.000000</td>\n",
       "    </tr>\n",
       "    <tr>\n",
       "      <td>25%</td>\n",
       "      <td>8.370000e+02</td>\n",
       "      <td>758.000000</td>\n",
       "    </tr>\n",
       "    <tr>\n",
       "      <td>50%</td>\n",
       "      <td>3.297000e+03</td>\n",
       "      <td>2825.500000</td>\n",
       "    </tr>\n",
       "    <tr>\n",
       "      <td>75%</td>\n",
       "      <td>1.103075e+04</td>\n",
       "      <td>9254.000000</td>\n",
       "    </tr>\n",
       "    <tr>\n",
       "      <td>max</td>\n",
       "      <td>4.119520e+06</td>\n",
       "      <td>381356.000000</td>\n",
       "    </tr>\n",
       "  </tbody>\n",
       "</table>\n",
       "</div>"
      ],
      "text/plain": [
       "          followers     favourites\n",
       "count  3.600000e+02     360.000000\n",
       "mean   3.859998e+04   10072.719444\n",
       "std    2.677872e+05   26485.266450\n",
       "min    5.000000e+00       0.000000\n",
       "25%    8.370000e+02     758.000000\n",
       "50%    3.297000e+03    2825.500000\n",
       "75%    1.103075e+04    9254.000000\n",
       "max    4.119520e+06  381356.000000"
      ]
     },
     "execution_count": 4,
     "metadata": {},
     "output_type": "execute_result"
    }
   ],
   "source": [
    "friends_df.describe()"
   ]
  },
  {
   "cell_type": "code",
   "execution_count": 3,
   "metadata": {},
   "outputs": [
    {
     "data": {
      "text/plain": [
       "True"
      ]
     },
     "execution_count": 3,
     "metadata": {},
     "output_type": "execute_result"
    }
   ],
   "source": [
    "import os\n",
    "from dotenv import load_dotenv\n",
    "load_dotenv()"
   ]
  },
  {
   "cell_type": "code",
   "execution_count": 5,
   "metadata": {},
   "outputs": [],
   "source": [
    "import twitter\n",
    "api = twitter.Api(consumer_key=os.environ['consumer_key'],\n",
    "                  consumer_secret=os.environ['consumer_secret'],\n",
    "                  access_token_key=os.environ['access_token_key'],\n",
    "                  access_token_secret=os.environ['access_token_secret'])"
   ]
  },
  {
   "cell_type": "code",
   "execution_count": 6,
   "metadata": {},
   "outputs": [],
   "source": [
    "result = api.GetFriends(user_id=None, screen_name=None, cursor=None, count=None, total_count=None, skip_status=False, include_user_entities=True)\n",
    "# print(result)\n",
    "\n",
    "# this could be useful to compare users to see who shares the same friends and discover who else I could befriend"
   ]
  },
  {
   "cell_type": "code",
   "execution_count": 8,
   "metadata": {},
   "outputs": [
    {
     "data": {
      "text/plain": [
       "2034"
      ]
     },
     "execution_count": 8,
     "metadata": {},
     "output_type": "execute_result"
    }
   ],
   "source": [
    "len(result)"
   ]
  },
  {
   "cell_type": "code",
   "execution_count": 10,
   "metadata": {},
   "outputs": [
    {
     "name": "stdout",
     "output_type": "stream",
     "text": [
      "(1645688340787488947, 0, [User(ID=114216916, ScreenName=shakasom), User(ID=744705937592594432, ScreenName=codeability), User(ID=101624176, ScreenName=steveschoger), User(ID=2353, ScreenName=davidcrow), User(ID=24338581, ScreenName=jamison_dance), User(ID=79005145, ScreenName=reimertz), User(ID=123037520, ScreenName=SiriAgrell), User(ID=239648605, ScreenName=PixelJunkNews), User(ID=18022416, ScreenName=sebmarkbage), User(ID=315636336, ScreenName=dribnet)])\n"
     ]
    }
   ],
   "source": [
    "paged = api.GetFriendsPaged(user_id=None, screen_name=None, cursor=-1, count=10, skip_status=False, include_user_entities=True)\n",
    "print(paged)"
   ]
  },
  {
   "cell_type": "code",
   "execution_count": 13,
   "metadata": {},
   "outputs": [
    {
     "ename": "TwitterRateLimitError",
     "evalue": "Too many requests (GET https://api.twitter.com/1.1/friends/list.json)",
     "output_type": "error",
     "traceback": [
      "\u001b[0;31m---------------------------------------------------------------------------\u001b[0m",
      "\u001b[0;31mTwitterRateLimitError\u001b[0m                     Traceback (most recent call last)",
      "\u001b[0;32m<ipython-input-13-e68ddcc1f941>\u001b[0m in \u001b[0;36m<module>\u001b[0;34m\u001b[0m\n\u001b[1;32m      6\u001b[0m \u001b[0;34m\u001b[0m\u001b[0m\n\u001b[1;32m      7\u001b[0m \u001b[0;34m\u001b[0m\u001b[0m\n\u001b[0;32m----> 8\u001b[0;31m \u001b[0mresponse\u001b[0m \u001b[0;34m=\u001b[0m \u001b[0mclient\u001b[0m\u001b[0;34m.\u001b[0m\u001b[0mapi\u001b[0m\u001b[0;34m[\u001b[0m\u001b[0;34m'friends/list'\u001b[0m\u001b[0;34m]\u001b[0m\u001b[0;34m.\u001b[0m\u001b[0mget\u001b[0m\u001b[0;34m(\u001b[0m\u001b[0;34m)\u001b[0m\u001b[0;34m\u001b[0m\u001b[0;34m\u001b[0m\u001b[0m\n\u001b[0m\u001b[1;32m      9\u001b[0m \u001b[0;31m# friends_list = response.data.get('users')\u001b[0m\u001b[0;34m\u001b[0m\u001b[0;34m\u001b[0m\u001b[0;34m\u001b[0m\u001b[0m\n\u001b[1;32m     10\u001b[0m \u001b[0mprint\u001b[0m\u001b[0;34m(\u001b[0m\u001b[0mresponse\u001b[0m\u001b[0;34m.\u001b[0m\u001b[0mdata\u001b[0m\u001b[0;34m)\u001b[0m\u001b[0;34m\u001b[0m\u001b[0;34m\u001b[0m\u001b[0m\n",
      "\u001b[0;32m/usr/local/lib/python3.7/site-packages/birdy/twitter.py\u001b[0m in \u001b[0;36mget\u001b[0;34m(self, **params)\u001b[0m\n\u001b[1;32m     79\u001b[0m         \u001b[0;32mif\u001b[0m \u001b[0mself\u001b[0m\u001b[0;34m.\u001b[0m\u001b[0m_path\u001b[0m \u001b[0;32mis\u001b[0m \u001b[0;32mNone\u001b[0m\u001b[0;34m:\u001b[0m\u001b[0;34m\u001b[0m\u001b[0;34m\u001b[0m\u001b[0m\n\u001b[1;32m     80\u001b[0m             \u001b[0;32mraise\u001b[0m \u001b[0mTypeError\u001b[0m\u001b[0;34m(\u001b[0m\u001b[0;34m'Calling get() on an empty API path is not supported.'\u001b[0m\u001b[0;34m)\u001b[0m\u001b[0;34m\u001b[0m\u001b[0;34m\u001b[0m\u001b[0m\n\u001b[0;32m---> 81\u001b[0;31m         \u001b[0;32mreturn\u001b[0m \u001b[0mself\u001b[0m\u001b[0;34m.\u001b[0m\u001b[0m_client\u001b[0m\u001b[0;34m.\u001b[0m\u001b[0mrequest\u001b[0m\u001b[0;34m(\u001b[0m\u001b[0;34m'GET'\u001b[0m\u001b[0;34m,\u001b[0m \u001b[0mself\u001b[0m\u001b[0;34m.\u001b[0m\u001b[0m_path\u001b[0m\u001b[0;34m,\u001b[0m \u001b[0;34m**\u001b[0m\u001b[0mparams\u001b[0m\u001b[0;34m)\u001b[0m\u001b[0;34m\u001b[0m\u001b[0;34m\u001b[0m\u001b[0m\n\u001b[0m\u001b[1;32m     82\u001b[0m \u001b[0;34m\u001b[0m\u001b[0m\n\u001b[1;32m     83\u001b[0m     \u001b[0;32mdef\u001b[0m \u001b[0mpost\u001b[0m\u001b[0;34m(\u001b[0m\u001b[0mself\u001b[0m\u001b[0;34m,\u001b[0m \u001b[0;34m**\u001b[0m\u001b[0mparams\u001b[0m\u001b[0;34m)\u001b[0m\u001b[0;34m:\u001b[0m\u001b[0;34m\u001b[0m\u001b[0;34m\u001b[0m\u001b[0m\n",
      "\u001b[0;32m/usr/local/lib/python3.7/site-packages/birdy/twitter.py\u001b[0m in \u001b[0;36mrequest\u001b[0;34m(self, method, path, **params)\u001b[0m\n\u001b[1;32m    165\u001b[0m             )\n\u001b[1;32m    166\u001b[0m \u001b[0;34m\u001b[0m\u001b[0m\n\u001b[0;32m--> 167\u001b[0;31m         \u001b[0;32mreturn\u001b[0m \u001b[0mself\u001b[0m\u001b[0;34m.\u001b[0m\u001b[0mhandle_response\u001b[0m\u001b[0;34m(\u001b[0m\u001b[0mmethod\u001b[0m\u001b[0;34m,\u001b[0m \u001b[0mresponse\u001b[0m\u001b[0;34m)\u001b[0m\u001b[0;34m\u001b[0m\u001b[0;34m\u001b[0m\u001b[0m\n\u001b[0m\u001b[1;32m    168\u001b[0m \u001b[0;34m\u001b[0m\u001b[0m\n\u001b[1;32m    169\u001b[0m     \u001b[0;32mdef\u001b[0m \u001b[0mconstruct_resource_url\u001b[0m\u001b[0;34m(\u001b[0m\u001b[0mself\u001b[0m\u001b[0;34m,\u001b[0m \u001b[0mpath\u001b[0m\u001b[0;34m)\u001b[0m\u001b[0;34m:\u001b[0m\u001b[0;34m\u001b[0m\u001b[0;34m\u001b[0m\u001b[0m\n",
      "\u001b[0;32m/usr/local/lib/python3.7/site-packages/birdy/twitter.py\u001b[0m in \u001b[0;36mhandle_response\u001b[0;34m(self, method, response)\u001b[0m\n\u001b[1;32m    184\u001b[0m \u001b[0;34m\u001b[0m\u001b[0m\n\u001b[1;32m    185\u001b[0m         \u001b[0;32mif\u001b[0m \u001b[0mresponse\u001b[0m\u001b[0;34m.\u001b[0m\u001b[0mstatus_code\u001b[0m \u001b[0;34m==\u001b[0m \u001b[0;36m429\u001b[0m\u001b[0;34m:\u001b[0m\u001b[0;34m\u001b[0m\u001b[0;34m\u001b[0m\u001b[0m\n\u001b[0;32m--> 186\u001b[0;31m             \u001b[0;32mraise\u001b[0m \u001b[0mTwitterRateLimitError\u001b[0m\u001b[0;34m(\u001b[0m\u001b[0;34m'Too many requests'\u001b[0m\u001b[0;34m,\u001b[0m \u001b[0mresponse\u001b[0m\u001b[0;34m=\u001b[0m\u001b[0mresponse\u001b[0m\u001b[0;34m,\u001b[0m \u001b[0mrequest_method\u001b[0m\u001b[0;34m=\u001b[0m\u001b[0mmethod\u001b[0m\u001b[0;34m,\u001b[0m \u001b[0merror_code\u001b[0m\u001b[0;34m=\u001b[0m\u001b[0;36m429\u001b[0m\u001b[0;34m)\u001b[0m\u001b[0;34m\u001b[0m\u001b[0;34m\u001b[0m\u001b[0m\n\u001b[0m\u001b[1;32m    187\u001b[0m \u001b[0;34m\u001b[0m\u001b[0m\n\u001b[1;32m    188\u001b[0m         \u001b[0;32mif\u001b[0m \u001b[0mdata\u001b[0m \u001b[0;32mis\u001b[0m \u001b[0;32mNone\u001b[0m\u001b[0;34m:\u001b[0m\u001b[0;34m\u001b[0m\u001b[0;34m\u001b[0m\u001b[0m\n",
      "\u001b[0;31mTwitterRateLimitError\u001b[0m: Too many requests (GET https://api.twitter.com/1.1/friends/list.json)"
     ]
    }
   ],
   "source": [
    "from birdy.twitter import UserClient\n",
    "client = UserClient(os.environ['consumer_key'],\n",
    "                    os.environ['consumer_secret'],\n",
    "                    os.environ['access_token_key'],\n",
    "                    os.environ['access_token_secret'])\n",
    "\n",
    "\n",
    "response = client.api['friends/list'].get()"
   ]
  },
  {
   "cell_type": "code",
   "execution_count": 27,
   "metadata": {},
   "outputs": [
    {
     "name": "stdout",
     "output_type": "stream",
     "text": [
      "total users:  20\n"
     ]
    }
   ],
   "source": [
    "# print(response.data.get(\"users\"))\n",
    "# Unlike twitter, Birdy get the friends list 1 page at time but has deep user info while twitter is limited to user_id and screen_name\n",
    "total_users = len(response.data.get(\"users\"))\n",
    "print(\"total users: \", total_users)\n",
    "\n",
    "# print(response.data)\n",
    "# 'next_cursor': 1645012985738854077, 'next_cursor_str': '1645012985738854077', 'previous_cursor': 0, 'previous_cursor_str'\n",
    "# in order to get all the pages, I need to keep calling next page until next_cursor = 0\n",
    "# due to rate limiting, I may not be all to get all the pages in one go.... \n"
   ]
  },
  {
   "cell_type": "code",
   "execution_count": 75,
   "metadata": {},
   "outputs": [
    {
     "name": "stdout",
     "output_type": "stream",
     "text": [
      "building json page 88\n",
      "building json page 89\n",
      "building json page 90\n",
      "building json page 91\n",
      "building json page 92\n",
      "building json page 93\n",
      "building json page 94\n",
      "building json page 95\n",
      "building json page 96\n",
      "building json page 97\n",
      "building json page 98\n",
      "building json page 99\n",
      "building json page 100\n",
      "building json page 101\n"
     ]
    }
   ],
   "source": [
    "import json\n",
    "\n",
    "'''\n",
    "next_cursor_page_19 = 1625030373660125000\n",
    "\n",
    "response_page_19 = client.api['friends/list'].get(cursor=next_cursor_page_19)\n",
    "json_data = response_page_19.data\n",
    "\n",
    "with open('data/friends19.json', 'w') as outfile:\n",
    "    json.dump(json_data, outfile)\n",
    "'''    \n",
    "    \n",
    "def load_another_page(page_num):\n",
    "    # need to get the next cursor from the previous page\n",
    "    prev_page_num = page_num - 1\n",
    "    with open('data/friends' + str(prev_page_num) + '.json') as json_file:\n",
    "        loaded_data = json.load(json_file)\n",
    "        next_cursor = loaded_data.get('next_cursor')\n",
    "        print('building json page {}'.format(page_num))\n",
    "        try:\n",
    "            response = client.api['friends/list'].get(cursor=next_cursor)\n",
    "            with open('data/friends' + str(page_num) + '.json', 'w') as outfile:\n",
    "                json.dump(response.data, outfile)\n",
    "            return True    \n",
    "        except:\n",
    "            print (\"caught limit error on page {}\".format(page_num))  \n",
    "            return False\n",
    "\n",
    "# load_another_page(20)\n",
    "\n",
    "import time\n",
    "\n",
    "# if hit a rate limit error - then need to wait another 15 before calling again... so let's say 20 minutes\n",
    "\n",
    "def load_all_pages(start_page_num, max_page_num):\n",
    "    start = start_page_num\n",
    "    max = max_page_num\n",
    "    no_error = True \n",
    "    while start < max and no_error:\n",
    "        no_error = load_another_page(start)\n",
    "        start = start + 1\n",
    "        time.sleep(5)\n",
    "    # I want to wait 20 minutes before attempting to call this again and pick up where I left off\n",
    "    #while start < max and no_error is False:\n",
    "    #    rate_limit_start = start - 1\n",
    "    #    load_all_pages(rate_limit_start,max_page_num=102)  \n",
    "    #    time.sleep(20 * 60)\n",
    "          \n",
    "load_all_pages(start_page_num=88,max_page_num=101)        \n",
    "    "
   ]
  },
  {
   "cell_type": "code",
   "execution_count": 39,
   "metadata": {},
   "outputs": [],
   "source": [
    "# I have 2000+ friends so how many pages do I need?\n"
   ]
  },
  {
   "cell_type": "code",
   "execution_count": 55,
   "metadata": {},
   "outputs": [
    {
     "name": "stdout",
     "output_type": "stream",
     "text": [
      "headwinds has 2036 friends, 652 followers, and 3122 tweets\n",
      "101.8\n"
     ]
    }
   ],
   "source": [
    "response = client.api['users/show'].get(screen_name=\"headwinds\")\n",
    "# statuses_count, retweet_count, friends_count, followers_count\n",
    "\n",
    "# >>> format_dictionary = {'births': 'five', 'deaths': 'three'}\n",
    "# >>> print \"there are {births} births, and {deaths} deaths\".format(**format_dictionary)\n",
    "\n",
    "format_dictionary = {'followers_count': response.data.followers_count, \n",
    "                     'friends_count': response.data.friends_count, \n",
    "                     'statuses_count': response.data.statuses_count}\n",
    "\n",
    "print (\"headwinds has {friends_count} friends, {followers_count} followers, and {statuses_count} tweets\".format(**format_dictionary))\n",
    "totals_friends_pages = response.data.friends_count / 20;\n",
    "print (totals_friends_pages)\n",
    "\n"
   ]
  },
  {
   "cell_type": "code",
   "execution_count": null,
   "metadata": {},
   "outputs": [],
   "source": []
  },
  {
   "cell_type": "code",
   "execution_count": null,
   "metadata": {},
   "outputs": [],
   "source": []
  }
 ],
 "metadata": {
  "kernelspec": {
   "display_name": "Python 3",
   "language": "python",
   "name": "python3"
  },
  "language_info": {
   "codemirror_mode": {
    "name": "ipython",
    "version": 3
   },
   "file_extension": ".py",
   "mimetype": "text/x-python",
   "name": "python",
   "nbconvert_exporter": "python",
   "pygments_lexer": "ipython3",
   "version": "3.7.4"
  }
 },
 "nbformat": 4,
 "nbformat_minor": 4
}
