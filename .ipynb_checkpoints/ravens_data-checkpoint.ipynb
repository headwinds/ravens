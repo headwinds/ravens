{
 "cells": [
  {
   "cell_type": "code",
   "execution_count": 29,
   "metadata": {},
   "outputs": [],
   "source": [
    "import pandas as pd\n",
    "import csv\n",
    "import json\n",
    "\n",
    "\n",
    "def load_json(file_path):\n",
    "    with open(file_path) as json_file:\n",
    "        data = json.load(json_file)\n",
    "        new_data = [];\n",
    "        for row in data['users']:\n",
    "            '''\n",
    "            print('Name: ' , row['name'])\n",
    "            print('Username: ' , row['screen_name'])\n",
    "            print('Description: ' , row['description'])\n",
    "            print('Website: ' , row['url'])\n",
    "            print('Followers: ' , row['followers_count'])\n",
    "            print('Favourites: ' , row['favourites_count'])\n",
    "            print('')\n",
    "            '''\n",
    "\n",
    "            new_user = {\n",
    "                    \"name\":  row['name'],\n",
    "                    \"username\":  row['screen_name'],\n",
    "                    \"description\":  row['description'],\n",
    "                    \"website\":  row['url'],\n",
    "                    \"followers\":  row['followers_count'],\n",
    "                    \"favourites\":  row['favourites_count']\n",
    "                    }\n",
    "\n",
    "            new_data.append(new_user)\n",
    "\n",
    "        return new_data\n",
    "        \n",
    "def load_all_json():\n",
    "    all_data = []\n",
    "    \n",
    "    num = 0\n",
    "    max = 18\n",
    "    while num < max:\n",
    "        num = num + 1\n",
    "        file_path = \"data/friends\" + str(num) + \".json\"\n",
    "        data = load_json(file_path)\n",
    "        all_data.append(data)\n",
    "        \n",
    "    return all_data\n",
    "\n",
    "def convert_data_to_csv():\n",
    "    \n",
    "    data = load_all_json()\n",
    "    \n",
    "    with open(\"headwinds_twitter_friends.csv\", 'w') as f:\n",
    "        writer = csv.DictWriter(f, [\"name\",\"username\",\"description\",\"website\",\"followers\",\"favourites\"])\n",
    "        writer.writeheader()\n",
    "        # writer = csv.writer(f)\n",
    "        for collection in data:\n",
    "            for my_dict in collection:\n",
    "                writer.writerow(my_dict)\n",
    "        \n",
    "    \n",
    "    # csv_file.writerow([item['name'], item['username'],item['description'],item['website'],item['followers'],item['favourites']])\n",
    "\n",
    "convert_data_to_csv()"
   ]
  },
  {
   "cell_type": "code",
   "execution_count": null,
   "metadata": {},
   "outputs": [],
   "source": []
  },
  {
   "cell_type": "code",
   "execution_count": null,
   "metadata": {},
   "outputs": [],
   "source": []
  }
 ],
 "metadata": {
  "kernelspec": {
   "display_name": "Python 3",
   "language": "python",
   "name": "python3"
  },
  "language_info": {
   "codemirror_mode": {
    "name": "ipython",
    "version": 3
   },
   "file_extension": ".py",
   "mimetype": "text/x-python",
   "name": "python",
   "nbconvert_exporter": "python",
   "pygments_lexer": "ipython3",
   "version": "3.7.4"
  }
 },
 "nbformat": 4,
 "nbformat_minor": 4
}
